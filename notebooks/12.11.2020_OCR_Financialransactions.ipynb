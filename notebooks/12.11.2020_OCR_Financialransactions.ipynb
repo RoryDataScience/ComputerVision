{
 "cells": [
  {
   "cell_type": "code",
   "execution_count": 1,
   "metadata": {},
   "outputs": [],
   "source": [
    "import PyPDF2\n",
    "import textract \n",
    "\n",
    "from nltk.tokenize import word_tokenize\n",
    "from nltk.corpus import stopwords"
   ]
  },
  {
   "cell_type": "code",
   "execution_count": 2,
   "metadata": {},
   "outputs": [],
   "source": [
    "filename = '/Users/Rej1992/Desktop/Statements/SikoiaExample.pdf'"
   ]
  },
  {
   "cell_type": "markdown",
   "metadata": {},
   "source": [
    "## Solution One"
   ]
  },
  {
   "cell_type": "code",
   "execution_count": null,
   "metadata": {},
   "outputs": [],
   "source": [
    "pdfFileObj = open(filename, 'rb')\n",
    "pdfReader = PyPDF2.PdfFileReader(pdfFileObj)\n",
    "num_pages = pdfReader.numPages\n",
    "count = 0\n",
    "text = ' '"
   ]
  },
  {
   "cell_type": "code",
   "execution_count": null,
   "metadata": {},
   "outputs": [],
   "source": [
    "while count < num_pages:\n",
    "    pageObj = pdfReader.getPage(count)\n",
    "    count += 1\n",
    "    text += pageObj.extractText()"
   ]
  },
  {
   "cell_type": "code",
   "execution_count": null,
   "metadata": {},
   "outputs": [],
   "source": [
    "if text != \"\":\n",
    "    text = text\n",
    "else:\n",
    "    text = textract.process(fileurl, \n",
    "                            method = 'tesseract', \n",
    "                            language = 'eng')"
   ]
  },
  {
   "cell_type": "code",
   "execution_count": null,
   "metadata": {},
   "outputs": [],
   "source": [
    "tokens = word_tokenize(text)\n",
    "punctuation = ['(',')',';',':','[',']',',','.']\n",
    "stop_words = stopwords.words('english')\n",
    "keywords = [word for word in text if not word in stop_words and not word in punctuation]"
   ]
  },
  {
   "cell_type": "code",
   "execution_count": null,
   "metadata": {},
   "outputs": [],
   "source": [
    "keywords"
   ]
  },
  {
   "cell_type": "markdown",
   "metadata": {},
   "source": [
    "## Solution Two"
   ]
  },
  {
   "cell_type": "code",
   "execution_count": null,
   "metadata": {},
   "outputs": [],
   "source": [
    "from io import StringIO\n",
    "\n",
    "from pdfminer.converter import TextConverter\n",
    "from pdfminer.layout import LAParams\n",
    "from pdfminer.pdfdocument import PDFDocument\n",
    "from pdfminer.pdfinterp import PDFResourceManager, PDFPageInterpreter\n",
    "from pdfminer.pdfpage import PDFPage\n",
    "from pdfminer.pdfparser import PDFParser\n",
    "\n",
    "output_string = StringIO()\n",
    "filename = '/Users/Rej1992/Desktop/Statements/SikoiaExample.pdf'\n",
    "with open(filename, 'rb') as in_file:\n",
    "    parser = PDFParser(in_file)\n",
    "    doc = PDFDocument(parser)\n",
    "    rsrcmgr = PDFResourceManager()\n",
    "    device = TextConverter(rsrcmgr, output_string, laparams = LAParams())\n",
    "    interpreter = PDFPageInterpreter(rsrcmgr, device)\n",
    "    for page in PDFPage.create_pages(doc):\n",
    "        interpreter.process_page(page)\n",
    "\n",
    "text = output_string.getvalue()"
   ]
  },
  {
   "cell_type": "code",
   "execution_count": null,
   "metadata": {},
   "outputs": [],
   "source": [
    "import string\n",
    "\n",
    "text = text.splitlines()\n",
    "\n",
    "# Remove punctuation\n",
    "text = [''.join(c for c in s if c not in string.punctuation) for s in text]\n",
    "\n",
    "# Remove empty white space\n",
    "text = [x for x in text if x]"
   ]
  },
  {
   "cell_type": "code",
   "execution_count": null,
   "metadata": {},
   "outputs": [],
   "source": [
    "# Created a dictionary called PERSONL_DETAILS & BANK_DETAILS that contains the position of the required column\n",
    "# This will be obtained from the Header Rows of the Document \n",
    "PERSONL_DETAILS = {\n",
    "    'Barclays': {\n",
    "        'Name': text[6],  \n",
    "        'Full_Name' : text[59],\n",
    "        'Address': ', '.join(text[7:10]),  \n",
    "        'Postcode' : text[10],\n",
    "        'Sort_Code': text[60][-6:],        \n",
    "        'Account_Number': text[61][-8:],\n",
    "   },\n",
    "}\n",
    "\n",
    "RECONCILIATION_DETAILS = {\n",
    "    'Barclays': {\n",
    "        'Start_Balance': text[66],\n",
    "        'Money_In': text[69],\n",
    "        'Money_Out': text[70],\n",
    "        'End_Balance': text[72], \n",
    "    },\n",
    "}\n",
    "\n",
    "# This will be obtained from the list of transactions\n",
    "BANK_DETAILS = {\n",
    "    'Barclays': {\n",
    "        'SortCode': text[32][-6:],   \n",
    "        #'RefNumber': rand.rand(), \n",
    "        'Date': text[4],     \n",
    "        'Description': 3,   \n",
    "        'TransactionType': 7,\n",
    "        'Money Out': 4,        \n",
    "        'Money In': 5,        \n",
    "        'Balance': 6,          \n",
    "   },\n",
    "}"
   ]
  },
  {
   "cell_type": "code",
   "execution_count": null,
   "metadata": {},
   "outputs": [],
   "source": [
    "text"
   ]
  },
  {
   "cell_type": "code",
   "execution_count": null,
   "metadata": {},
   "outputs": [],
   "source": [
    "PERSONL_DETAILS"
   ]
  },
  {
   "cell_type": "code",
   "execution_count": null,
   "metadata": {},
   "outputs": [],
   "source": [
    "RECONCILIATION_DETAILS"
   ]
  },
  {
   "cell_type": "code",
   "execution_count": 35,
   "metadata": {},
   "outputs": [
    {
     "name": "stdout",
     "output_type": "stream",
     "text": [
      "{'fontname': 'C0EX03I0', 'adv': Decimal('3.969'), 'upright': True, 'x0': Decimal('56.600'), 'y0': Decimal('11.473'), 'x1': Decimal('60.569'), 'y1': Decimal('19.110'), 'width': Decimal('3.969'), 'height': Decimal('7.637'), 'size': Decimal('7.637'), 'object_type': 'char', 'page_number': 1, 'text': 'B', 'top': Decimal('822.890'), 'bottom': Decimal('830.527'), 'doctop': Decimal('822.890')}\n"
     ]
    }
   ],
   "source": [
    "import pdfplumber\n",
    "\n",
    "with pdfplumber.open(filename) as pdf:\n",
    "    first_page = pdf.pages[0]\n",
    "    print(first_page.chars[0])"
   ]
  },
  {
   "cell_type": "code",
   "execution_count": 41,
   "metadata": {},
   "outputs": [],
   "source": [
    "pdf = pdfplumber.open('/Users/Rej1992/Desktop/uganda_election.pdf')"
   ]
  },
  {
   "cell_type": "code",
   "execution_count": 44,
   "metadata": {},
   "outputs": [],
   "source": [
    "pdf = pdfplumber.open(\"/Users/Rej1992/Desktop/table-word.pdf\")\n",
    "p0 = pdf.pages[0]"
   ]
  },
  {
   "cell_type": "code",
   "execution_count": 46,
   "metadata": {},
   "outputs": [
    {
     "data": {
      "text/plain": [
       "<Page:1>"
      ]
     },
     "execution_count": 46,
     "metadata": {},
     "output_type": "execute_result"
    }
   ],
   "source": [
    "p0"
   ]
  },
  {
   "cell_type": "code",
   "execution_count": 48,
   "metadata": {},
   "outputs": [
    {
     "ename": "TypeError",
     "evalue": "'NoneType' object is not subscriptable",
     "output_type": "error",
     "traceback": [
      "\u001b[0;31m---------------------------------------------------------------------------\u001b[0m",
      "\u001b[0;31mTypeError\u001b[0m                                 Traceback (most recent call last)",
      "\u001b[0;32m<ipython-input-48-5fc5fd691b24>\u001b[0m in \u001b[0;36m<module>\u001b[0;34m\u001b[0m\n\u001b[1;32m      1\u001b[0m \u001b[0mtable\u001b[0m \u001b[0;34m=\u001b[0m \u001b[0mp0\u001b[0m\u001b[0;34m.\u001b[0m\u001b[0mextract_table\u001b[0m\u001b[0;34m(\u001b[0m\u001b[0;34m)\u001b[0m\u001b[0;34m\u001b[0m\u001b[0m\n\u001b[0;32m----> 2\u001b[0;31m \u001b[0mtable\u001b[0m\u001b[0;34m[\u001b[0m\u001b[0;34m:\u001b[0m\u001b[0;36m3\u001b[0m\u001b[0;34m]\u001b[0m\u001b[0;34m\u001b[0m\u001b[0m\n\u001b[0m",
      "\u001b[0;31mTypeError\u001b[0m: 'NoneType' object is not subscriptable"
     ]
    }
   ],
   "source": [
    "table = p0.extract_table()\n",
    "table[:3]"
   ]
  },
  {
   "cell_type": "code",
   "execution_count": null,
   "metadata": {},
   "outputs": [],
   "source": [
    "print('Number of tables detected: ', dfs.n)\n",
    "print(dfs[0].parsing_report)"
   ]
  },
  {
   "cell_type": "code",
   "execution_count": null,
   "metadata": {},
   "outputs": [],
   "source": []
  },
  {
   "cell_type": "code",
   "execution_count": null,
   "metadata": {},
   "outputs": [],
   "source": [
    "tokens = word_tokenize(results)\n",
    "punctuation = ['(',')',';',':','[',']',',','.']\n",
    "stop_words = stopwords.words('english')\n",
    "keywords = [word for word in tokens if not word in stop_words and not word in punctuation]"
   ]
  },
  {
   "cell_type": "code",
   "execution_count": null,
   "metadata": {},
   "outputs": [],
   "source": [
    "keywords"
   ]
  },
  {
   "cell_type": "code",
   "execution_count": null,
   "metadata": {},
   "outputs": [],
   "source": [
    "# define keyterms\n",
    "String = \"Social\"\n",
    "\n",
    "# extract text and do the search\n",
    "for i in range(0, NumPages):\n",
    "    PageObj = object.getPage(i)\n",
    "    print(\"this is page \" + str(i)) \n",
    "    Text = PageObj.extractText() \n",
    "    # print(Text)\n",
    "    ResSearch = re.search(String, Text)\n",
    "    print(ResSearch)"
   ]
  }
 ],
 "metadata": {
  "kernelspec": {
   "display_name": "Python 3",
   "language": "python",
   "name": "python3"
  },
  "language_info": {
   "codemirror_mode": {
    "name": "ipython",
    "version": 3
   },
   "file_extension": ".py",
   "mimetype": "text/x-python",
   "name": "python",
   "nbconvert_exporter": "python",
   "pygments_lexer": "ipython3",
   "version": "3.6.5"
  }
 },
 "nbformat": 4,
 "nbformat_minor": 4
}
